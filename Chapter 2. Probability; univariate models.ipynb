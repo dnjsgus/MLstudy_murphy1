{
 "cells": [
  {
   "cell_type": "markdown",
   "id": "21c91a6d",
   "metadata": {},
   "source": [
    "# 2 Probability: univariate models\n",
    "\n",
    "# 2.1 Introduction\n",
    "\n",
    "## 2.1.1 What is probability?\n",
    "Two different interpretations of probability.\n",
    "- ***Frequentist interpretation***: Long run **frequencies of events** that can happen multiple times.\n",
    "- ***Bayesian interpretation***: **Quantification of our uncertainty or ignorance** about something. \n",
    "Fundamentally related to **information** rather than repeated trials.\n",
    "\n",
    "Example: ***The probability that a (fair) coin will land heads is 50%***\n",
    "- ***Frequentist***: If we flip the coin **many times repeatedly**, we expect it to land heads about half the time.\n",
    "- ***Bayesian***: We believe that the coin is equally likely to land heads or tails on the next toss. \n",
    "\n",
    "## 2.1.2 Types of uncertainty\n",
    "- ***Epistemic uncertainty (or model uncertainty)***: Ignorance of the **underlying hidden causes or mechanism** generating our data. \n",
    "- ***Aleatoric uncertainty (or data uncertainty)***: **Intrinsic variability** which cannot be reduced even if we collect more data.\n",
    "\n",
    "Example: Tossing a fair coin.\n",
    "- We know that the probability of heads is $p = 0.5$, thus **no epistemic uncertainty**\n",
    "- But we still cannot perfectly predict the outcome of the next toss: **Aleatoric uncertainty** due to the intrinsic variability.\n",
    "\n",
    "\n",
    "## 2.1.3 Probability as an extension of logic\n",
    "\n",
    "### 2.1.3.1 Probability of an event.\n",
    "- **Event** : Some state of the world that either holds or does not hold.\n",
    "\n",
    "- $Pr(A)$: Probability of event $A$.\n",
    "\n",
    "- For any event $A$, &nbsp; $0 \\leq Pr(A) \\leq 1$.\n",
    "\n",
    "- $Pr(\\overline{A}) = 1 - Pr(A)$\n",
    "\n",
    "### 2.1.3.2 Probability of a conjunction of two events\n",
    "- $Pr(A \\land B) = Pr(A,B)$\n",
    "\n",
    "- $Pr(A,B) = Pr(A)Pr(B)$ &nbsp; if $A$ and $B$ are independent. \n",
    "\n",
    "### 2.1.3.3 Probabilitiy of a union of two events\n",
    "- $Pr(A \\lor B) = Pr(A) + Pr(B) - Pr(A \\land B)$\n",
    "\n",
    "- $Pr(A \\lor B) = Pr(A) + Pr(B)$ &nbsp; if $A$ and $B$ are independent.\n",
    "\n",
    "### 2.1.3.4 Conditional probability of one event given another\n",
    "- $Pr(B \\vert A) := \\frac{Pr(A,B)}{Pr(A)}$ &nbsp; Conditional probability of $B$ given that $A$ has occurred. ($Pr(A) \\neq 0$).\n",
    "\n",
    "### 2.1.3.5 Conditional independence of events\n",
    "- $A$ is **conditionally independent** of $B$ if $Pr(A \\vert B) = Pr(A)$ or equivalently, $Pr(B \\vert A) = Pr(B)$. Hence, $Pr(A,B) = Pr(A)Pr(B)$\n",
    "\n",
    "- $A$ and $B$ are **conditionally independent given a third event $C$** if $Pr(A\\vert B,C) = Pr(A\\vert C)$ or equivalently, $Pr(A,B \\vert C) = Pr(A \\vert C)Pr(B \\vert C)$\n"
   ]
  },
  {
   "cell_type": "markdown",
   "id": "af224b6e",
   "metadata": {},
   "source": [
    "# 2.2 Random variables\n",
    "\n",
    "**Random variables** : If some quantity of interest $X$ is **unknown** and/or **could change**, it is called **random variable** or **rv**.\n",
    "\n",
    "**Sample space** : **Set of possible values** of random variable $X$.\n",
    "- Example> If $X$ denotes the face of dice. Then **sample space of** $X = \\{1,2,3,4,5,6\\}$.\n",
    "\n",
    "**Event** : **Set of outcomes** from a given sample space. \n",
    "- Example> Event of *\"seeing an odd number\"* from the dice: $X \\in \\{1,3,5\\}$.\n",
    "\n",
    "## 2.2.1 Discrete random variables\n",
    "If the sample space is **finite** or **countably infinite**, then $X$ is called a **discrete random variable**.\n",
    "\n",
    "**Probability mass function (pmf)** : $p(x) := Pr(X=x)$\n",
    "\n",
    "If $p(x)$ denotes the pmf of rv $X$, then\n",
    "- $0 \\leq p(x) \\leq 1$\n",
    "- $\\Sigma_{x \\in \\chi}p(x) = 1$"
   ]
  },
  {
   "cell_type": "code",
   "execution_count": 13,
   "id": "2d04268f",
   "metadata": {},
   "outputs": [
    {
     "data": {
      "image/png": "[encoded data removed]",
      "text/plain": [
       "<Figure size 432x288 with 2 Axes>"
      ]
     },
     "metadata": {
      "needs_background": "light"
     },
     "output_type": "display_data"
    }
   ],
   "source": [
    "import numpy as np\n",
    "import matplotlib.pyplot as plt\n",
    "\n",
    "X = np.arange(1,5)\n",
    "Uni_Pmf = np.repeat(1.0/len(X), len(X))\n",
    "\n",
    "def Plot_Pmf(Pmf, index, title):\n",
    "    plt.subplot(1,3,index)\n",
    "    plt.bar(X, Pmf, align='center')\n",
    "    plt.title(title)\n",
    "    plt.xticks(X)\n",
    "    plt.yticks(np.linspace(0, 1, 5))\n",
    "    \n",
    "Plot_Pmf(Uni_Pmf, 1, 'Uniform distribution')          # Discrete Uniform distribution\n",
    "Plot_Pmf([1,0,0,0], 3, 'Degenerate distribution')     # Degenerate distribution\n",
    "\n",
    "plt.show()"
   ]
  },
  {
   "cell_type": "markdown",
   "id": "910588a3",
   "metadata": {},
   "source": [
    "## 2.2.2 Continuous random variables\n",
    "X is called **continuous random variable**, if it takes values in a **continuous set** $V \\in \\mathbb{R}$. \n",
    "\n",
    "### 2.2.2.1 Cumulative distribution function (cdf)\n",
    "For continuous rv $X$, \n",
    "- $Pr(X \\leq b) = Pr(X \\leq a) + Pr(a < X \\leq b)$\n",
    "- $Pr(a < X \\leq b) = Pr(X \\leq b) - Pr(X \\leq a)$\n",
    "\n",
    "Define **cumulative distribution function (cdf)** as:\n",
    "- $P(x) := Pr(X \\leq x)$\n",
    "\n",
    "Then, we get\n",
    "- $Pr(a < X \\leq b) = P(b) - P(a)$\n",
    "\n",
    "### 2.2.2.2 Probability density function (pdf)\n",
    "Define **probability density function (pdf)** as the derivative of the cdf:\n",
    "- $p(x) := \\frac{d}{dx}P(x)$\n",
    "\n",
    "So, we have\n",
    "- $ Pr(a < X \\leq b) = \\int_a^bp(x)dx = P(b) - P(a)$\n",
    "\n",
    "As the size of the interval gets smaller, we can write\n",
    "- $ Pr(x \\leq X \\leq x+dx) \\simeq p(x)dx$"
   ]
  }
 ],
 "metadata": {
  "kernelspec": {
   "display_name": "Python 3",
   "language": "python",
   "name": "python3"
  },
  "language_info": {
   "codemirror_mode": {
    "name": "ipython",
    "version": 3
   },
   "file_extension": ".py",
   "mimetype": "text/x-python",
   "name": "python",
   "nbconvert_exporter": "python",
   "pygments_lexer": "ipython3",
   "version": "3.7.10"
  }
 },
 "nbformat": 4,
 "nbformat_minor": 5
}
