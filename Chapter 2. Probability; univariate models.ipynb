{
 "cells": [
  {
   "cell_type": "markdown",
   "id": "21c91a6d",
   "metadata": {},
   "source": [
    "# 2 Probability: univariate models\n",
    "\n",
    "# 2.1 Introduction\n",
    "\n",
    "## 2.1.1 What is probability?\n",
    "Two different interpretations of probability.\n",
    "- ***Frequentist interpretation***: Long run **frequencies of events** that can happen multiple times.\n",
    "- ***Bayesian interpretation***: **Quantification of our uncertainty or ignorance** about something. \n",
    "Fundamentally related to **information** rather than repeated trials.\n",
    "\n",
    "Example: ***The probability that a (fair) coin will land heads is 50%***\n",
    "- ***Frequentist***: If we flip the coin **many times repeatedly**, we expect it to land heads about half the time.\n",
    "- ***Bayesian***: We believe that the coin is equally likely to land heads or tails on the next toss. \n",
    "\n",
    "## 2.1.2 Types of uncertainty\n",
    "- ***Epistemic uncertainty (or model uncertainty)***: Ignorance of the **underlying hidden causes or mechanism** generating our data. \n",
    "- ***Aleatoric uncertainty (or data uncertainty)***: **Intrinsic variability** which cannot be reduced even if we collect more data.\n",
    "\n",
    "Example: Tossing a fair coin.\n",
    "- We know that the probability of heads is $p = 0.5$, thus **no epistemic uncertainty**\n",
    "- But we still cannot perfectly predict the outcome of the next toss: **Aleatoric uncertainty** due to the intrinsic variability.\n",
    "\n",
    "\n",
    "## 2.1.3 Probability as an extension of logic\n",
    "\n",
    "### 2.1.3.1 Probability of an event.\n",
    "- **Event** : Some state of the world that either holds or does not hold.\n",
    "\n",
    "- $Pr(A)$: Probability of event $A$.\n",
    "\n",
    "- For any event $A$, &nbsp; $0 \\leq Pr(A) \\leq 1$.\n",
    "\n",
    "- $Pr(\\overline{A}) = 1 - Pr(A)$\n",
    "\n",
    "### 2.1.3.2 Probability of a conjunction of two events\n",
    "- $Pr(A \\land B) = Pr(A,B)$\n",
    "\n",
    "- $Pr(A,B) = Pr(A)Pr(B)$ &nbsp; if $A$ and $B$ are independent. \n",
    "\n",
    "### 2.1.3.3 Probabilitiy of a union of two events\n",
    "- $Pr(A \\lor B) = Pr(A) + Pr(B) - Pr(A \\land B)$\n",
    "\n",
    "- $Pr(A \\lor B) = Pr(A) + Pr(B)$ &nbsp; if $A$ and $B$ are independent.\n",
    "\n",
    "### 2.1.3.4 Conditional probability of one event given another\n",
    "- $Pr(B \\vert A) := \\frac{Pr(A,B)}{Pr(A)}$ &nbsp; Conditional probability of $B$ given that $A$ has occurred. ($Pr(A) \\neq 0$).\n",
    "\n",
    "### 2.1.3.5 Conditional independence of events\n",
    "- $A$ is **conditionally independent** of $B$ if $Pr(A \\vert B) = Pr(A)$ or equivalently, $Pr(B \\vert A) = Pr(B)$. Hence, $Pr(A,B) = Pr(A)Pr(B)$\n",
    "\n",
    "- $A$ and $B$ are **conditionally independent given a third event $C$** if $Pr(A\\vert B,C) = Pr(A\\vert C)$ or equivalently, $Pr(A,B \\vert C) = Pr(A \\vert C)Pr(B \\vert C)$\n"
   ]
  },
  {
   "cell_type": "markdown",
   "id": "af224b6e",
   "metadata": {},
   "source": [
    "# 2.2 Random variables\n",
    "\n",
    "**Random variables** : If some quantity of interest $X$ is **unknown** and/or **could change**, it is called **random variable** or **rv**.\n",
    "\n",
    "**Sample space** : **Set of possible values** of random variable $X$.\n",
    "- Example> If $X$ denotes the face of dice. Then **sample space of** $X = \\{1,2,3,4,5,6\\}$.\n",
    "\n",
    "**Event** : **Set of outcomes** from a given sample space. \n",
    "- Example> Event of *\"seeing an odd number\"* from the dice: $X \\in \\{1,3,5\\}$.\n",
    "\n",
    "## 2.2.1 Discrete random variables\n",
    "If the sample space is **finite** or **countably infinite**, then $X$ is called a **discrete random variable**.\n",
    "\n",
    "**Probability mass function (pmf)** : $p(x) := Pr(X=x)$\n",
    "\n",
    "If $p(x)$ denotes the pmf of rv $X$, then\n",
    "- $0 \\leq p(x) \\leq 1$\n",
    "- $\\Sigma_{x \\in \\chi}p(x) = 1$"
   ]
  },
  {
   "cell_type": "code",
   "execution_count": 13,
   "id": "2d04268f",
   "metadata": {},
   "outputs": [
    {
     "data": {
      "image/png": "[encoded data removed]",
      "text/plain": [
       "<Figure size 432x288 with 2 Axes>"
      ]
     },
     "metadata": {
      "needs_background": "light"
     },
     "output_type": "display_data"
    }
   ],
   "source": [
    "import numpy as np\n",
    "import matplotlib.pyplot as plt\n",
    "\n",
    "X = np.arange(1,5)\n",
    "Uni_Pmf = np.repeat(1.0/len(X), len(X))\n",
    "\n",
    "def Plot_Pmf(Pmf, index, title):\n",
    "    plt.subplot(1,3,index)\n",
    "    plt.bar(X, Pmf, align='center')\n",
    "    plt.title(title)\n",
    "    plt.xticks(X)\n",
    "    plt.yticks(np.linspace(0, 1, 5))\n",
    "    \n",
    "Plot_Pmf(Uni_Pmf, 1, 'Uniform distribution')          # Discrete Uniform distribution\n",
    "Plot_Pmf([1,0,0,0], 3, 'Degenerate distribution')     # Degenerate distribution\n",
    "\n",
    "plt.show()"
   ]
  },
  {
   "cell_type": "markdown",
   "id": "910588a3",
   "metadata": {},
   "source": [
    "## 2.2.2 Continuous random variables\n",
    "X is called **continuous random variable**, if it takes values in a **continuous set** $V \\in \\mathbb{R}$. \n",
    "\n",
    "### 2.2.2.1 Cumulative distribution function (cdf)\n",
    "For continuous rv $X$, \n",
    "- $Pr(X \\leq b) = Pr(X \\leq a) + Pr(a < X \\leq b)$\n",
    "- $Pr(a < X \\leq b) = Pr(X \\leq b) - Pr(X \\leq a)$\n",
    "\n",
    "Define **cumulative distribution function (cdf)** as:\n",
    "- $P(x) := Pr(X \\leq x)$\n",
    "\n",
    "Then, we get\n",
    "- $Pr(a < X \\leq b) = P(b) - P(a)$\n",
    "\n",
    "### 2.2.2.2 Probability density function (pdf)\n",
    "Define **probability density function (pdf)** as the derivative of the cdf:\n",
    "- $p(x) := \\frac{d}{dx}P(x)$\n",
    "\n",
    "So, we have\n",
    "- $ Pr(a < X \\leq b) = \\int_a^bp(x)dx = P(b) - P(a)$\n",
    "\n",
    "As the size of the interval gets smaller, we can write\n",
    "- $ Pr(x \\leq X \\leq x+dx) \\simeq p(x)dx$\n",
    "\n",
    "### 2.2.2.3 Quantiles\n",
    "If the cdf $P$ is **strictly monotonically increasing**, then it has an inverse. We call this inverse function as **inverse cdf** or **percent point function (ppf)** or **quantile function**.\n",
    "\n",
    "If $P$ is the cdf of rv $X$, then $P^{-1}(q) = x_q \\,\\, s.t. \\, Pr(X\\leq x_q) = q$. &nbsp; $x_q$ : $q$'th **quantile** of $P$.\n",
    "- $P^{-1}(0.5)$ : **Median** of the distribution\n",
    "- $P^{-1}(0.25) \\, , \\, P^{-1}(0.75)$ : **Lower (first), Upper (third) quartiles**\n",
    "\n",
    "Let $\\Phi$ be the cdf of standard normal distribution $\\mathcal{N}(0,1)$, so that $\\Phi^{-1}$ be the inverse cdf.\n",
    "- Points to the left of $\\Phi^{-1}(\\alpha/2)$ contain $\\alpha/2$ of probability mass.\n",
    "- Points to the right of $\\Phi^{-1}(1-\\alpha/2)$ also contain $\\alpha/2$ of probability mass by symmetry.\n",
    "- Hence, $(\\Phi^{-1}(\\alpha/2), \\Phi^{-1}(1-\\alpha/2))$ **contains $1-\\alpha$ of the mass**.\n",
    "- ex> If $\\alpha = 0.05$, the interval $(\\Phi^{-1}(0.025), \\Phi^{-1}(0.975)) = (-1.96, 1.96)$ **contains 95% of the mass**."
   ]
  },
  {
   "cell_type": "code",
   "execution_count": 34,
   "id": "4971c1e4",
   "metadata": {},
   "outputs": [
    {
     "data": {
      "image/png": "[encoded data removed]",
      "text/plain": [
       "<Figure size 1440x288 with 3 Axes>"
      ]
     },
     "metadata": {
      "needs_background": "light"
     },
     "output_type": "display_data"
    }
   ],
   "source": [
    "# Plot of cdf, pdf of standard normal distribution\n",
    "import numpy as np\n",
    "import matplotlib.pyplot as plt\n",
    "from scipy.stats import norm\n",
    "\n",
    "domain = np.linspace(-3, 3, 100)\n",
    "norm_pdf = norm.pdf(domain)           # Standard normal by default (log = 0, scale = 1)\n",
    "norm_cdf = norm.cdf(domain)           # Standard normal by default (log = 0, scale = 1)\n",
    "\n",
    "def Plot_Normal(func, index, title):\n",
    "    plt.subplot(1,3,index)\n",
    "    plt.plot(domain, func)\n",
    "    plt.title(title)\n",
    "    plt.xticks(np.linspace(-3, 3, 7))\n",
    "    plt.yticks(np.linspace(0, np.max(func) if index != 1 else 1, 5))\n",
    "    \n",
    "def Plot_Quantile(func, alpha, title):\n",
    "    plt.subplot(1,3,3)\n",
    "    plt.plot(domain, func)\n",
    "    \n",
    "    left_sep = norm.ppf(alpha/2.0)        # Standard normal by default (log = 0, scale = 1)\n",
    "    right_sep = norm.ppf(1 - alpha/2.0)   # Standard normal by default (log = 0, scale = 1)\n",
    "    \n",
    "    left_domain = np.linspace(-3, left_sep, 100)\n",
    "    right_domain = np.linspace(right_sep, 3, 100)\n",
    "    \n",
    "    plt.fill_between(left_domain, norm.pdf(left_domain), color = 'g')\n",
    "    plt.fill_between(right_domain, norm.pdf(right_domain), color = 'g')\n",
    "    \n",
    "    plt.annotate(r'$\\alpha/2$', xy=(left_sep, norm.pdf(left_sep)), xytext = (-3.0 , 0.1), arrowprops = dict(arrowstyle = 'fancy', color = 'blue'))\n",
    "    plt.annotate(r'$1-\\alpha/2$', xy=(right_sep, norm.pdf(right_sep)), xytext = (2.5 , 0.1), arrowprops = dict(arrowstyle = 'fancy', color = 'blue'))\n",
    "    \n",
    "    plt.title(title)\n",
    "    plt.xticks(np.linspace(-3, 3, 7))\n",
    "    plt.yticks(np.linspace(0, np.max(func), 5))\n",
    "\n",
    "plt.figure(figsize = (20,4))\n",
    "Plot_Normal(norm_cdf, 1, 'Cdf')\n",
    "Plot_Normal(norm_pdf, 2, 'Pdf')\n",
    "Plot_Quantile(norm_pdf, 0.05, '95% Probability mass')\n",
    "plt.tight_layout()\n",
    "plt.show()\n",
    "    "
   ]
  },
  {
   "cell_type": "markdown",
   "id": "cea8cdf8",
   "metadata": {},
   "source": [
    "## 2.2.3 Sets of related random variables\n",
    "**Joint distribution** of the two random variables $X$, $Y$ : $p(x,y) = p(X = x, Y = y)$.\n",
    "\n",
    "**Marginal distribution** of the random variable $X$ : $p(X = x) = \\Sigma_y \\, p(X = x, Y = y)$.\n",
    "- Called **sum rule** or **rule of total probability**.\n",
    "\n",
    "**Conditional distribution** of the rv $Y$ given $X$ : $p(Y=y\\vert X=x) = \\frac{p(X=x,Y=y)}{P(X=x)}$\n",
    "- **Product rule** : $p(x,y) = p(x)p(y\\vert x)$\n",
    "- **Chain rule of probability** : $p(x_{1:D}) = p(x_1)p(x_2\\vert x_1)p(x_3\\vert x_1, x_2) ... p(x_D\\vert x_{1:D-1})$\n",
    "\n",
    "## 2.2.4 Independence and conditional independence\n",
    "Random varaibles $X$ and $Y$ are **unconditionally independent** or **marginally independent** iff $p(X,Y) = p(X)p(Y)$. &nbsp; Denoted $X \\perp Y$.\n",
    "- Generally, $X_1, ... X_n$ are independent $\\iff p(X_1, ... X_n) = \\Pi_{i=1}^n p(X_i)$\n",
    "\n",
    "Random variables $X$ and $Y$ are **conditionally independent (CI)** given $Z$ iff $p(X,Y\\vert Z) = p(X\\vert Z)p(Y\\vert Z)$\n",
    "- Formally, $X\\perp Y \\vert Z \\iff p(X,Y\\vert Z) = p(X\\vert Z)p(Y \\vert Z)$\n",
    "\n",
    "## 2.2.5 Moments of a distribution\n",
    "\n",
    "### 2.2.5.1 Mean of a distribution\n",
    "**Mean** or **Expected value** or **Expectation** of random variable, often denoted by $\\mu$, is defined as:\n",
    "- Discrete rv: $\\mathbb{E}[X] := \\Sigma xp(x)$\n",
    "- Continuous rv: $\\mathbb{E}[X] := \\int xp(x)dx$\n",
    "\n",
    "Properties of Expectation:\n",
    "- $\\mathbb{E}[aX+b] = a\\mathbb{E}[X] + b$  (**Linearity of expectation**)\n",
    "- $\\mathbb{E}[\\Sigma_{i=1}^nX_i] = \\Sigma_{i=1}^n \\mathbb{E}[X_i]$\n",
    "- If $X_i$'s are independent, $\\mathbb{E}[\\Pi_{i=1}^nX_i] = \\Pi_{i=1}^n \\mathbb{E}[X_i]$\n",
    "\n",
    "### 2.2.5.2 Variance of a distribution\n",
    "**Variance** is a measure of the *spread* of a distribution, often denoted by $\\sigma^2$, defined as:\n",
    "- $\\mathbb{V}[X] := \\mathbb{E}[(X-\\mu)^2]$\n",
    "\n",
    "Hence, $\\mathbb{E}[X^2] = \\sigma^2 + \\mu^2$\n",
    "\n",
    "The **standard deviation** is defined as : \n",
    "- $std[X] := \\sqrt{\\mathbb{V}[X]} = \\sigma$\n",
    "\n",
    "Properties of Variance:\n",
    "- $\\mathbb{V}[aX+b] = a^2\\mathbb{V}[X]$\n",
    "- If $X_i$'s are independent, $\\mathbb{V}[\\Sigma_{i=1}^n] = \\Sigma_{i=1}^n\\mathbb{V}[X_i]$\n",
    "- If $X_i$'s are independent, $\\mathbb{V}[\\Pi_{i=1}^nX_i] = \\Pi_{i=1}^n(\\sigma_i^2 + \\mu_i^2) - \\Pi_{i=1}^n \\mu_i^2$\n",
    "\n",
    "### 2.2.5.3 Mode of a distribution\n",
    "The **mode** of a distribution is the value with the highest probability mass or probability density.\n",
    "- $x^* =$ argmax$_x\\,p(x)$\n",
    "\n",
    "### 2.2.5.4 Conditional moments\n",
    "**Law of total expectation** : $\\mathbb{E}[X] = \\mathbb{E}[\\mathbb{E}[X\\vert Y]]$\n",
    "- Example> $\\mathbb{E}[X\\vert Y=1] = 5000, \\,\\mathbb{E}[X\\vert Y=2] = 4000, \\,p(Y=1) = 0.6, \\,p(Y=2) = 0.4$, then $\\mathbb{E}[X] = \\mathbb{E}[X\\vert Y=1]p(Y=1) + \\mathbb{E}[X\\vert Y=2]p(Y=2) = 5000*0.6 + 4000*0.4 = 4600$.\n",
    "\n",
    "**Conditional variance formula** : $\\mathbb{V}[X] = \\mathbb{E}[\\mathbb{V}[X\\vert Y]] + \\mathbb{V}[\\mathbb{E}[X\\vert Y]]$"
   ]
  },
  {
   "cell_type": "markdown",
   "id": "51a05ec8",
   "metadata": {},
   "source": [
    "# 2.3 Bayes' rule\n",
    "A formula for computing the probability distribution over possible values of an **unknown (or hidden) quantity $H$** given some **observed data $Y=y$**.\n",
    "$$p(H=h\\vert Y=y) = \\frac{p(H=h)p(Y=y\\vert H=h)}{P(Y=y)}$$\n",
    "- **Prior distribution** $p(H)$ : What we know about the possible values of unknown quantity $H$ before we see any data.\n",
    "- **Observation distribution** $p(Y\\vert H=h)$ : Distribution over the possible outcomes $Y$ we expect to see, given that $H=h$.\n",
    "    - **Likelihood** $p(Y=y\\vert H=h)$\n",
    "    - **Marginal likelihood** $p(Y=y)$\n",
    "- **Posterior distribution** $p(H=h\\vert Y=y)$ : Our new **belief state** about the possible values of $H$.\n",
    "\n",
    "**Bayesian inference (Posterior inference)** : An inference that uses Bayes rule to **update a distribution over unknown values of some quantity of interest, given relevant observed data**.\n",
    "\n",
    "## 2.3.1 Example: Testing for COVID-19\n",
    "- $H = 1$ : Infected, &nbsp; $H = 0$ : Not infected, &nbsp; (Unknown values of interest)\n",
    "- $Y = 1$ : Test positive, &nbsp; $Y = 0$ : Test negative. &nbsp; (Observation)\n",
    "- **Likelihoods** (Set properly according to real statistics)\n",
    "    - **True positive rate (i.e. Sensitivity)** : $p(Y=1\\vert H=1) = 0.875$\n",
    "    - **True negative rate (i.e. Specificity)** : $p(Y=0\\vert H=0) = 0.975$\n",
    "    - **False positive rate (Observed positive but indeed false)** : $p(Y=1\\vert H=0) = 1 - p(Y=0\\vert H=0 ) = 0.025$\n",
    "    - **False negative rate (Observed negative but indeed true)** : $p(Y=0\\vert H=1) = 1 - p(Y=1\\vert H=1) = 0.125$\n",
    "- **Prior distribution** (Set properly according to real statistics)\n",
    "    - $p(H = 1) = 0.1$, &nbsp; $p(H = 0) = 0.9$ \n",
    "- **Marginal likelihood**\n",
    "    - $p(Y = 1) = p(Y=1\\vert H=0)p(H=0) + p(Y=1\\vert H=1)p(H=1) = 0.025*0.9 + 0.875*0.1 = 0.11$\n",
    "    - $p(Y = 0) = p(Y=0\\vert H=0)p(H=0) + p(Y =0\\vert H=1)p(H=1) = 0.975*0.9 + 0.125*0.1 = 0.89$\n",
    "- **Posterior distribution**\n",
    "    - $p(H=1\\vert Y=1) = \\frac{p(H=1)p(Y=1\\vert H=1)}{p(Y=1)} = \\frac{0.1*0.875}{0.11} = 0.795$ &nbsp; (probability of being infected given a positive test.)\n",
    "    - $p(H=1\\vert Y=0) = \\frac{p(H=1)p(Y=0\\vert H=1)}{p(Y=0)} = \\frac{0.1*0.125}{0.89} = 0.014$ &nbsp; (probability of being infected given a negative test.)\n",
    "    \n",
    "## 2.3.2 Example: The Monty Hall problem\n",
    "**Rule**: There are 3 doors, labelled 1,2,3. A single prize has been hidden behind one of these. Participant has to select one door. Then the host opens one of the other two doors behind which there is no prize. After that, the participant has two choices: stick with his/her first choice, or switch to the other option.\n",
    "\n",
    "**Prior distribution**: $H_i$ denotes the event that there is a prize behind the door $i$.\n",
    "- $p(H_1) = p(H_2) = p(H_3) = 1/3$\n",
    "\n",
    "**Likelihoods** (Suppose that the participant initially selected door 1.)\n",
    "- $p(Y=2\\vert H_1) = p(Y=3\\vert H_1) = 1/2$\n",
    "- $p(Y=2\\vert H_2) = 0$ &nbsp; $p(Y=3\\vert H_2) = 1$\n",
    "- $p(Y=2\\vert H_3) = 1$ &nbsp; $p(Y=3\\vert H_3) = 0$\n",
    "\n",
    "**Marginal likelihoods**\n",
    "- $p(Y=2) = p(Y=3) = 0.5 * 1/3 + 1* 1/3 = 0.5$\n",
    "\n",
    "**Posterior distribution** (Suppose that the host has shown the door 3 where there is no prize behind it.)\n",
    "- $p(H_1\\vert Y=3) = \\frac{p(H_1)p(Y=3\\vert H_1)}{p(Y=3)} = 1/3$\n",
    "- $p(H_2\\vert Y=3) = \\frac{p(H_2)p(Y=3\\vert H_2)}{p(Y=3)} = 2/3$\n",
    "\n",
    "Thus, the participant has to choose **door 2** in second trial in order to have the biggest chance of winning the prize.\n"
   ]
  },
  {
   "cell_type": "markdown",
   "id": "0d6c29e8",
   "metadata": {},
   "source": [
    "# 2.4 Bernoulli and binomial distributions\n",
    "\n",
    "## 2.4.1 Definition\n",
    "The discrete random varialbe $Y$ is said to follows **Bernoulli distribution**, if for $0\\leq \\theta \\leq 1$ its pmf can be written as:\n",
    "- $Ber(y\\vert \\theta) := \\begin{cases} 1-\\theta & \\; y=0 \\\\ \\theta & \\; y=1 \\end{cases}$ &nbsp; &nbsp; &nbsp; &nbsp; Formally, $Ber(y\\vert \\theta) := \\theta^y(1-\\theta)^{1-y}$\n",
    "\n",
    "The **Binomial distribution** is the distribution of the **sum of $N$ bernoulli random variables** thus,\n",
    "- $Bin(x\\vert N,\\theta) := {N \\choose x}\\theta^x(1-\\theta)^{1-x}$ &nbsp; &nbsp; where ${N \\choose x} = \\frac{N!}{(N-x)!x!}$\n",
    "\n",
    "If $N = 1$, binomial distribution becomes bernoulli distribution."
   ]
  },
  {
   "cell_type": "code",
   "execution_count": 7,
   "id": "520d5112",
   "metadata": {},
   "outputs": [
    {
     "data": {
      "image/png": "[encoded data removed]",
      "text/plain": [
       "<Figure size 1080x288 with 2 Axes>"
      ]
     },
     "metadata": {
      "needs_background": "light"
     },
     "output_type": "display_data"
    }
   ],
   "source": [
    "## Pmf of Binomial distribution with N = 10 and (a) theta = 0.25 , (b) theta = 0.9\n",
    "import numpy as np\n",
    "import matplotlib.pyplot as plt\n",
    "from scipy.stats import binom\n",
    "\n",
    "def Plot_Binom_Pmf(N, theta, index, title):\n",
    "    X = np.arange(0, N+1)\n",
    "    Y = binom.pmf(X, N, theta)\n",
    "    plt.subplot(1,3,index)\n",
    "    plt.bar(X, Y)\n",
    "    plt.xticks(X)\n",
    "    plt.yticks(np.arange(0,1.1,step=0.1))\n",
    "    plt.title(title)\n",
    "    \n",
    "plt.figure(figsize = (15,4))\n",
    "Plot_Binom_Pmf(10, 0.25, 1, r'$\\theta$' + \"=\" + str(0.25))\n",
    "Plot_Binom_Pmf(10, 0.9, 3, r'$\\theta$' + \"=\" + str(0.9))\n",
    "plt.show()"
   ]
  },
  {
   "cell_type": "markdown",
   "id": "867878a8",
   "metadata": {},
   "source": [
    "## 2.4.2 Sigmoid (logistic) function\n",
    "We want to predict a binary variable $y \\in \\{0,1\\}$ given some inputs $x$ by using **conditional probability distribution** of the form:\n",
    "- $p(y\\vert x,\\theta) = Ber(y\\vert f(x;\\theta))$\n",
    "\n",
    "Here, $0\\leq f(x;\\theta) \\leq 1$ is required due to the definition of the **Bernoulli distribution**. To avoid the restriction, we use the following model instead:\n",
    "- $p(y\\vert x,\\theta) = Ber(y\\vert \\sigma(f(x;\\theta)))$ &nbsp;&nbsp;&nbsp; where $\\sigma(x) := (1+e^{-x})^{-1}$ is the **sigmoid (logistic) function**.\n",
    "\n",
    "We use sigmoid function because it maps whole real line to $[0,1]$, which is necessary for the output to be interpreted as probability.\n",
    "\n",
    "If we let $f(x;\\theta) = a$,\n",
    "- $p(y=1\\vert x,\\theta) = \\sigma(a)$\n",
    "- $p(y=0\\vert x,\\theta) = \\sigma(-a)$\n",
    "- Here, $a = log(\\frac{p}{1-p})$ &nbsp; &nbsp; where $p = p(y=1\\vert x,\\theta)$.\n",
    "\n",
    "Thus, the **sigmoid function** maps the log-odds $a$ to $p$:\n",
    "- $p = \\sigma(a) := \\frac{1}{1+e^{-a}}$\n",
    "\n",
    "The inverse of this is called **logit function**, and maps $p$ to the log-odds $a$:\n",
    "- $a = logit(p) = \\sigma^{-1}(p) := log(\\frac{p}{1-p})$"
   ]
  },
  {
   "cell_type": "code",
   "execution_count": 12,
   "id": "1ee4bc20",
   "metadata": {},
   "outputs": [
    {
     "data": {
      "image/png": "[encoded data removed]",
      "text/plain": [
       "<Figure size 432x288 with 1 Axes>"
      ]
     },
     "metadata": {
      "needs_background": "light"
     },
     "output_type": "display_data"
    }
   ],
   "source": [
    "# Simple plot of the sigmoid function\n",
    "import numpy\n",
    "import matplotlib.pyplot as plt\n",
    "\n",
    "def sigmoid(a):\n",
    "    return 1 / (1 + np.exp(-a))\n",
    "\n",
    "X = np.linspace(-5, 5, 200)\n",
    "Y = sigmoid(X)\n",
    "\n",
    "plt.title('Sigmoid function')\n",
    "plt.xticks(np.arange(-5, 6, 1))\n",
    "plt.yticks(np.arange(0, 1.2, 0.2))\n",
    "plt.grid(True)\n",
    "plt.plot(X, Y)\n",
    "plt.show()\n"
   ]
  },
  {
   "cell_type": "markdown",
   "id": "b62b556f",
   "metadata": {},
   "source": [
    "## 2.4.3 Binary logistic regression\n",
    "**Logistic regression**: Using conditional Bernoulli model, where we use a **linear predictor** of the form $f(x;\\theta) = w^{T}x + b$.\n",
    "- $p(y\\vert x;\\theta) = Ber(y\\vert \\sigma(w^{T}x + b))$\n",
    "- $p(y=1\\vert x;\\theta) = \\sigma(w^{T}x + b) = \\frac{1}{1+e^{-(w^{T}x + b)}}$\n",
    "\n",
    "The **decision boundary** is the value $x^*$ where $p(y=1\\vert x=x^*,\\theta) = 0.5$."
   ]
  },
  {
   "cell_type": "markdown",
   "id": "a8262b23",
   "metadata": {},
   "source": [
    "# 2.5 Categorical and multinomial distributions\n",
    "\n",
    "## 2.5.1 Definition\n",
    "The **categorical distribution** is a discrete probability distribution with one parameter per class:\n",
    "- $Cat(y\\vert \\theta) := \\Pi_{c=1}^C \\theta_c^{\\mathbb{I}(y=c)}$ &nbsp; &nbsp; &nbsp; &nbsp; $Cat(\\mathbf{y} \\vert \\theta) := \\Pi_{c=1}^C \\theta_c^{y_c}$ &nbsp; (One-hot encoding notation) \n",
    "- Generalization of the Bernoulli to more than 2 class labels.\n",
    "\n",
    "**Multinomial distribution** is the distribution sum of $N$ categorical random variables thus,\n",
    "- $Mu(s\\vert N,\\theta) := {N \\choose s_1, ... ,s_C}\\Pi_{c=1}^C \\theta_c^{s_c}$ &nbsp; &nbsp; where ${N \\choose s_1, ... ,s_C} := \\frac{N!}{s_1!s_2!...s_C!}$\n",
    "\n",
    "if $N=1$ multinomial distributions becomes categorical distribution.\n",
    "\n",
    "## 2.5.2 Softmax function\n",
    "We want to predict a class label $y \\in \\{1,...,C\\}$ given some inputs $x$ by using **conditional probability distribution** of the form:\n",
    "- $p(y\\vert \\mathbf{x},theta) = Cat(y\\vert f(\\mathbf{x};\\theta))$\n",
    "\n",
    "Here, $0\\leq f_c(\\mathbf{x};\\theta) \\leq 1$ and $\\Sigma_{c=1}^C f_c(\\mathbf{x};\\theta) = 1$ is required due to the definition of the **Categorical distribution**. To avoid the restriction, we use the following model instead:\n",
    "- $p(y\\vert \\mathbf{x},\\theta) = Cat(y\\vert S((f(\\mathbf{x};\\theta)))$ &nbsp;&nbsp;&nbsp; where $S(\\mathbf{a}) := [\\frac{e^{a_1}}{\\Sigma_{c`=1}^Ce^{a_{c`}}}, ..., \\frac{e^{a_C}}{\\Sigma_{c`=1}^Ce^{a_{c`}}}]$ is the **softmax function**.\n",
    "- The inputs $\\mathbf{a} = f(\\mathbf{x};\\theta)$ to the softmax function are called **logits**.\n",
    "\n",
    "The softmax function acts a bit like the **argmax function**:\n",
    "- $S(a/T)_c = \\begin{cases} 1.0 & \\text{if} \\; c = argmax_{c'}a_{c'} \\\\ 0.0  & \\text{otherwise} \\end{cases}$ &nbsp; as $T \\to 0$. &nbsp;&nbsp;&nbsp;&nbsp; $T$ is called the **temperature**.\n",
    "- At low temperatures, the distribution puts most of its probability mass in the most probable state (**winner takes all**), whereas at high temperatures, it spreads the mass uniformly."
   ]
  },
  {
   "cell_type": "code",
   "execution_count": 17,
   "id": "75661541",
   "metadata": {},
   "outputs": [
    {
     "data": {
      "image/png": "[encoded data removed]",
      "text/plain": [
       "<Figure size 864x288 with 3 Axes>"
      ]
     },
     "metadata": {
      "needs_background": "light"
     },
     "output_type": "display_data"
    }
   ],
   "source": [
    "# Softmax distribution at various temperatures with the logit: (3,0,1)\n",
    "import numpy as np\n",
    "import matplotlib.pyplot as plt\n",
    "\n",
    "def softmax(a):\n",
    "    exp = np.exp(a)\n",
    "    return exp / np.sum(exp)\n",
    "\n",
    "X = np.arange(1,4)\n",
    "logit = np.array([3,0,1])\n",
    "temperatures = [100, 2, 1]\n",
    "\n",
    "plt.figure(figsize = (12, 4))\n",
    "for i in range(len(temperatures)):\n",
    "    plt.subplot(1,3,i+1)\n",
    "    plt.bar(X, softmax(logit/temperatures[i]))\n",
    "    plt.title('T = %d' % temperatures[i])\n",
    "    plt.xticks(X)\n",
    "    plt.yticks(np.arange(0, 1.2, 0.2))\n",
    "    plt.ylim(0,1)\n",
    "    \n",
    "plt.show()"
   ]
  },
  {
   "cell_type": "markdown",
   "id": "361aeea2",
   "metadata": {},
   "source": [
    "## 2.5.3 Multiclass logistic regression\n",
    "\n",
    "**Multiclass logistic regression**: Using conditional categorical model, where we use a **linear predictor** of the form $f(\\mathbf{x};\\theta) = \\mathbf{W}x + \\mathbf{b}$\n",
    "- $p(y\\vert \\mathbf{x};\\theta) = Cat(y\\vert S(\\mathbf{W}x+\\mathbf{b}))$\n",
    "\n",
    "Let $\\mathbf{a} = \\mathbf{W}x + \\mathbf{b}$ be the $C$-dimensional vector of **logits**. Then, \n",
    "- $p(y=c \\vert \\mathbf{x};\\theta) = \\frac{e^{a_c}}{\\Sigma_{c`=1}^C e^{a_c`}}$\n",
    "\n",
    "If we have just 2 classes, this reduces to binary logistic regression.\n",
    "\n",
    "## 2.5.4 Log-sum-exp trick\n",
    "**Problem**: While calculating softmax function, if components of given logit are too large or too small, each exponentials may cause overflow or underflow due to the 64-bit precision of the computer.\n",
    "\n",
    "**Solution**\n",
    "- 1. Use the identity: &nbsp; $log\\Sigma_{c=1}^C exp(a_c) = m + log\\Sigma_{c=1}^C exp(a_c-m) \\;\\; \\forall m$.\n",
    "- 2. Compute the probabilities using: &nbsp; $p(y=c\\vert \\mathbf{x}) = exp(a_c - lse(\\mathbf{a}))$ &nbsp; where &nbsp; $lse(\\mathbf{a}) = log\\Sigma_{c=1}^C exp(a_c)$"
   ]
  },
  {
   "cell_type": "markdown",
   "id": "ea8e3496",
   "metadata": {},
   "source": [
    "# 2.6 Univariate Gaussian (normal) distribution\n",
    "\n",
    "## 2.6.1 Cumulative distribution function\n",
    "The cdf of the Gaussian is defined as\n",
    "- $\\Phi(y;\\mu,\\sigma^2) := \\int_{-\\infty}^y\\mathcal{N}(z\\vert \\mu,\\sigma^2)dz = \\frac{1}{2}[1+erf(z/\\sqrt(2))]$ &nbsp;&nbsp;&nbsp;&nbsp; where $z = (y-\\mu)/\\sigma$\n",
    "\n",
    "$erf(u)$ is the **error function** defined as: &nbsp; $erf(u) = \\frac{2}{\\sqrt{\\pi}}\\int_0^{\\mu}e^{-t^2}dt$\n",
    "\n",
    "When $\\mu = 0$ and $\\sigma = 1$, the Gaussian is called the **standard normal distribution**. ($\\mathcal{N}(0,1)$)\n",
    "\n",
    "## 2.6.2 Probability density function\n",
    "The pdf of the Gaussian is defined as\n",
    "- $\\mathcal{N}(y\\vert \\mu, \\sigma^2) := \\frac{1}{\\sqrt{2\\pi \\sigma^2}}e^{-\\frac{1}{2\\sigma^2}(y-\\mu)^2}$\n",
    "\n",
    "If a random variable $Y \\sim \\mathcal{N}(\\mu, \\sigma^2)$, then\n",
    "- $\\mathbb{E}[Y] = \\mu$\n",
    "- $std[Y] = \\sigma$\n",
    "\n",
    "## 2.6.3 Regression\n",
    "Consider the following conditional Gaussian model of the form:\n",
    "- $p(y\\vert \\mathbf{x};\\theta) = \\mathcal{N}(y\\vert f_{\\mu}(\\mathbf{x};\\theta), f_{\\sigma}(\\mathbf{x},\\theta)^2)$\n",
    "\n",
    "**Homoscedastic regression**: Regression that assumes the variance is **fixed**.\n",
    "- If we assume the mean is linear function of the input, it is called **linear regression**\n",
    "    - $p(y\\vert \\mathbf{x};\\theta) = \\mathcal{N}(y\\vert \\mathbf{w}^T\\mathbf{x} + b, \\sigma^2)$ &nbsp;&nbsp;&nbsp;&nbsp; where $\\theta = (\\mathbf{w}, b, \\sigma^2)$\n",
    "    \n",
    "**Heteroscedastic regression**: Regression that let the variance **depend on the input**.\n",
    "- $p(y\\vert \\mathbf{x};\\theta) = \\mathcal{N}(y\\vert \\mathbf{w}^T_\\mu\\mathbf{x} + b, \\sigma_+(\\mathbf{w}_{\\sigma}^T\\mathbf{x}))$ &nbsp;&nbsp;&nbsp;&nbsp; where $\\theta = (\\mathbf{w}_{\\mu}, \\mathbf{w}_{\\sigma})$ are the two forms of regression weights.\n",
    "- $\\sigma_+(a) = log(1+e^a)$ &nbsp; is the **softplus function** that maps from $\\mathbb{R}$ to $\\mathbb{R^+}$."
   ]
  }
 ],
 "metadata": {
  "kernelspec": {
   "display_name": "Python 3",
   "language": "python",
   "name": "python3"
  },
  "language_info": {
   "codemirror_mode": {
    "name": "ipython",
    "version": 3
   },
   "file_extension": ".py",
   "mimetype": "text/x-python",
   "name": "python",
   "nbconvert_exporter": "python",
   "pygments_lexer": "ipython3",
   "version": "3.7.10"
  }
 },
 "nbformat": 4,
 "nbformat_minor": 5
}
